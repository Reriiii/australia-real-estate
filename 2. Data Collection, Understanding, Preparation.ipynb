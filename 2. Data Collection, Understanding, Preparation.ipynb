{
 "cells": [
  {
   "cell_type": "code",
   "execution_count": 2,
   "id": "9e24d631",
   "metadata": {},
   "outputs": [],
   "source": [
    "import pandas as pd\n",
    "import numpy as np\n",
    "\n",
    "from utils.support_functions import haversine"
   ]
  },
  {
   "cell_type": "markdown",
   "id": "53507a70",
   "metadata": {},
   "source": [
    "## Data Collection"
   ]
  },
  {
   "cell_type": "code",
   "execution_count": 3,
   "id": "f0fb3a39",
   "metadata": {},
   "outputs": [],
   "source": [
    "df_nsw = pd.read_csv('dataset/nsw-property-sales-data-updated20250922.csv')\n",
    "df_domain = pd.read_csv('dataset/cleaned/domain_realestate_cleaned_all_with_latlong.csv')"
   ]
  },
  {
   "cell_type": "code",
   "execution_count": 4,
   "id": "7e9a005f",
   "metadata": {},
   "outputs": [
    {
     "data": {
      "text/html": [
       "<div>\n",
       "<style scoped>\n",
       "    .dataframe tbody tr th:only-of-type {\n",
       "        vertical-align: middle;\n",
       "    }\n",
       "\n",
       "    .dataframe tbody tr th {\n",
       "        vertical-align: top;\n",
       "    }\n",
       "\n",
       "    .dataframe thead th {\n",
       "        text-align: right;\n",
       "    }\n",
       "</style>\n",
       "<table border=\"1\" class=\"dataframe\">\n",
       "  <thead>\n",
       "    <tr style=\"text-align: right;\">\n",
       "      <th></th>\n",
       "      <th>Property ID</th>\n",
       "      <th>Sale counter</th>\n",
       "      <th>Download date / time</th>\n",
       "      <th>Property name</th>\n",
       "      <th>Property unit number</th>\n",
       "      <th>Property house number</th>\n",
       "      <th>Property street name</th>\n",
       "      <th>Property locality</th>\n",
       "      <th>Property post code</th>\n",
       "      <th>Area</th>\n",
       "      <th>Area type</th>\n",
       "      <th>Contract date</th>\n",
       "      <th>Settlement date</th>\n",
       "      <th>Purchase price</th>\n",
       "      <th>Zoning</th>\n",
       "      <th>Nature of property</th>\n",
       "      <th>Primary purpose</th>\n",
       "      <th>Strata lot number</th>\n",
       "      <th>Dealing number</th>\n",
       "      <th>Property legal description</th>\n",
       "    </tr>\n",
       "  </thead>\n",
       "  <tbody>\n",
       "    <tr>\n",
       "      <th>0</th>\n",
       "      <td>3379176.0</td>\n",
       "      <td>1</td>\n",
       "      <td>20240701 01:16</td>\n",
       "      <td>Cams</td>\n",
       "      <td>NaN</td>\n",
       "      <td>154</td>\n",
       "      <td>Sanctuary Rd</td>\n",
       "      <td>Ellalong</td>\n",
       "      <td>2325.0</td>\n",
       "      <td>314100.0</td>\n",
       "      <td>H</td>\n",
       "      <td>2024-06-19</td>\n",
       "      <td>2024-06-25</td>\n",
       "      <td>1800000</td>\n",
       "      <td>RU2</td>\n",
       "      <td>V</td>\n",
       "      <td>Vacant land</td>\n",
       "      <td>NaN</td>\n",
       "      <td>AU186093</td>\n",
       "      <td>1/185087</td>\n",
       "    </tr>\n",
       "    <tr>\n",
       "      <th>1</th>\n",
       "      <td>3484622.0</td>\n",
       "      <td>2</td>\n",
       "      <td>20240701 01:16</td>\n",
       "      <td>NaN</td>\n",
       "      <td>NaN</td>\n",
       "      <td>8 A</td>\n",
       "      <td>Redgum Rd</td>\n",
       "      <td>Paxton</td>\n",
       "      <td>2325.0</td>\n",
       "      <td>5280.0</td>\n",
       "      <td>M</td>\n",
       "      <td>2024-05-20</td>\n",
       "      <td>2024-06-27</td>\n",
       "      <td>1150000</td>\n",
       "      <td>R5</td>\n",
       "      <td>R</td>\n",
       "      <td>Residence</td>\n",
       "      <td>NaN</td>\n",
       "      <td>AU194908</td>\n",
       "      <td>31/1144473</td>\n",
       "    </tr>\n",
       "    <tr>\n",
       "      <th>2</th>\n",
       "      <td>4140910.0</td>\n",
       "      <td>3</td>\n",
       "      <td>20240701 01:16</td>\n",
       "      <td>NaN</td>\n",
       "      <td>NaN</td>\n",
       "      <td>46</td>\n",
       "      <td>Millbrook Rd</td>\n",
       "      <td>Cliftleigh</td>\n",
       "      <td>2321.0</td>\n",
       "      <td>450.0</td>\n",
       "      <td>M</td>\n",
       "      <td>2024-05-29</td>\n",
       "      <td>2024-06-26</td>\n",
       "      <td>710000</td>\n",
       "      <td>R2</td>\n",
       "      <td>R</td>\n",
       "      <td>Residence</td>\n",
       "      <td>NaN</td>\n",
       "      <td>AU189616</td>\n",
       "      <td>614/1242604</td>\n",
       "    </tr>\n",
       "    <tr>\n",
       "      <th>3</th>\n",
       "      <td>1884.0</td>\n",
       "      <td>4</td>\n",
       "      <td>20240701 01:16</td>\n",
       "      <td>NaN</td>\n",
       "      <td>NaN</td>\n",
       "      <td>12</td>\n",
       "      <td>Vincent St</td>\n",
       "      <td>Cessnock</td>\n",
       "      <td>2325.0</td>\n",
       "      <td>1100.0</td>\n",
       "      <td>M</td>\n",
       "      <td>2024-05-14</td>\n",
       "      <td>2024-06-25</td>\n",
       "      <td>1250000</td>\n",
       "      <td>E2</td>\n",
       "      <td>3</td>\n",
       "      <td>Commercial</td>\n",
       "      <td>NaN</td>\n",
       "      <td>AU184079</td>\n",
       "      <td>1/727362</td>\n",
       "    </tr>\n",
       "    <tr>\n",
       "      <th>4</th>\n",
       "      <td>4258.0</td>\n",
       "      <td>5</td>\n",
       "      <td>20240701 01:16</td>\n",
       "      <td>NaN</td>\n",
       "      <td>NaN</td>\n",
       "      <td>9</td>\n",
       "      <td>Cessnock Rd</td>\n",
       "      <td>Branxton</td>\n",
       "      <td>2335.0</td>\n",
       "      <td>1113.0</td>\n",
       "      <td>M</td>\n",
       "      <td>2024-04-04</td>\n",
       "      <td>2024-06-27</td>\n",
       "      <td>755000</td>\n",
       "      <td>R3</td>\n",
       "      <td>R</td>\n",
       "      <td>Residence</td>\n",
       "      <td>NaN</td>\n",
       "      <td>AU194943</td>\n",
       "      <td>1/3/8123</td>\n",
       "    </tr>\n",
       "  </tbody>\n",
       "</table>\n",
       "</div>"
      ],
      "text/plain": [
       "   Property ID  Sale counter Download date / time Property name  \\\n",
       "0    3379176.0             1       20240701 01:16          Cams   \n",
       "1    3484622.0             2       20240701 01:16           NaN   \n",
       "2    4140910.0             3       20240701 01:16           NaN   \n",
       "3       1884.0             4       20240701 01:16           NaN   \n",
       "4       4258.0             5       20240701 01:16           NaN   \n",
       "\n",
       "  Property unit number Property house number Property street name  \\\n",
       "0                  NaN                   154         Sanctuary Rd   \n",
       "1                  NaN                   8 A            Redgum Rd   \n",
       "2                  NaN                    46         Millbrook Rd   \n",
       "3                  NaN                    12           Vincent St   \n",
       "4                  NaN                     9          Cessnock Rd   \n",
       "\n",
       "  Property locality  Property post code      Area Area type Contract date  \\\n",
       "0          Ellalong              2325.0  314100.0         H    2024-06-19   \n",
       "1            Paxton              2325.0    5280.0         M    2024-05-20   \n",
       "2        Cliftleigh              2321.0     450.0         M    2024-05-29   \n",
       "3          Cessnock              2325.0    1100.0         M    2024-05-14   \n",
       "4          Branxton              2335.0    1113.0         M    2024-04-04   \n",
       "\n",
       "  Settlement date  Purchase price Zoning Nature of property Primary purpose  \\\n",
       "0      2024-06-25         1800000    RU2                  V     Vacant land   \n",
       "1      2024-06-27         1150000     R5                  R       Residence   \n",
       "2      2024-06-26          710000     R2                  R       Residence   \n",
       "3      2024-06-25         1250000     E2                  3      Commercial   \n",
       "4      2024-06-27          755000     R3                  R       Residence   \n",
       "\n",
       "   Strata lot number Dealing number Property legal description  \n",
       "0                NaN       AU186093                   1/185087  \n",
       "1                NaN       AU194908                 31/1144473  \n",
       "2                NaN       AU189616                614/1242604  \n",
       "3                NaN       AU184079                   1/727362  \n",
       "4                NaN       AU194943                   1/3/8123  "
      ]
     },
     "execution_count": 4,
     "metadata": {},
     "output_type": "execute_result"
    }
   ],
   "source": [
    "df_nsw.head()"
   ]
  },
  {
   "cell_type": "code",
   "execution_count": 5,
   "id": "ef9edc6f",
   "metadata": {},
   "outputs": [
    {
     "data": {
      "text/html": [
       "<div>\n",
       "<style scoped>\n",
       "    .dataframe tbody tr th:only-of-type {\n",
       "        vertical-align: middle;\n",
       "    }\n",
       "\n",
       "    .dataframe tbody tr th {\n",
       "        vertical-align: top;\n",
       "    }\n",
       "\n",
       "    .dataframe thead th {\n",
       "        text-align: right;\n",
       "    }\n",
       "</style>\n",
       "<table border=\"1\" class=\"dataframe\">\n",
       "  <thead>\n",
       "    <tr style=\"text-align: right;\">\n",
       "      <th></th>\n",
       "      <th>Address_URL</th>\n",
       "      <th>Price</th>\n",
       "      <th>Address</th>\n",
       "      <th>Beds</th>\n",
       "      <th>Baths</th>\n",
       "      <th>Parking</th>\n",
       "      <th>Size</th>\n",
       "      <th>Type</th>\n",
       "      <th>format</th>\n",
       "      <th>unit</th>\n",
       "      <th>street_number</th>\n",
       "      <th>street_name</th>\n",
       "      <th>lot_number</th>\n",
       "      <th>suburb</th>\n",
       "      <th>state</th>\n",
       "      <th>postcode</th>\n",
       "      <th>lat</th>\n",
       "      <th>lon</th>\n",
       "    </tr>\n",
       "  </thead>\n",
       "  <tbody>\n",
       "    <tr>\n",
       "      <th>0</th>\n",
       "      <td>https://www.domain.com.au/14-22-26-paul-street...</td>\n",
       "      <td>850000.0</td>\n",
       "      <td>14/22-26 Paul Street,  BALMAIN NSW 2041</td>\n",
       "      <td>1.0</td>\n",
       "      <td>1.0</td>\n",
       "      <td>NaN</td>\n",
       "      <td>NaN</td>\n",
       "      <td>Apartment / Unit / Flat</td>\n",
       "      <td>unit_format</td>\n",
       "      <td>14</td>\n",
       "      <td>22-26</td>\n",
       "      <td>Paul Street</td>\n",
       "      <td>NaN</td>\n",
       "      <td>Balmain</td>\n",
       "      <td>NSW</td>\n",
       "      <td>2041</td>\n",
       "      <td>-33.857815</td>\n",
       "      <td>151.194659</td>\n",
       "    </tr>\n",
       "    <tr>\n",
       "      <th>1</th>\n",
       "      <td>https://www.domain.com.au/806-28a-northumberla...</td>\n",
       "      <td>768000.0</td>\n",
       "      <td>806/28A Northumberland Road,  AUBURN NSW 2144</td>\n",
       "      <td>2.0</td>\n",
       "      <td>2.0</td>\n",
       "      <td>1.0</td>\n",
       "      <td>NaN</td>\n",
       "      <td>Apartment / Unit / Flat</td>\n",
       "      <td>unit_format</td>\n",
       "      <td>806</td>\n",
       "      <td>28A</td>\n",
       "      <td>Northumberland Road</td>\n",
       "      <td>NaN</td>\n",
       "      <td>Auburn</td>\n",
       "      <td>NSW</td>\n",
       "      <td>2144</td>\n",
       "      <td>-33.843828</td>\n",
       "      <td>151.037565</td>\n",
       "    </tr>\n",
       "    <tr>\n",
       "      <th>2</th>\n",
       "      <td>https://www.domain.com.au/317-318-20-22-davids...</td>\n",
       "      <td>1290000.0</td>\n",
       "      <td>317-318/20-22 Davidson Street,  PORT DOUGLAS Q...</td>\n",
       "      <td>3.0</td>\n",
       "      <td>2.0</td>\n",
       "      <td>1.0</td>\n",
       "      <td>NaN</td>\n",
       "      <td>Apartment / Unit / Flat</td>\n",
       "      <td>unit_format</td>\n",
       "      <td>317-318</td>\n",
       "      <td>20-22</td>\n",
       "      <td>Davidson Street</td>\n",
       "      <td>NaN</td>\n",
       "      <td>Port Douglas</td>\n",
       "      <td>QLD</td>\n",
       "      <td>4877</td>\n",
       "      <td>-16.486914</td>\n",
       "      <td>145.465788</td>\n",
       "    </tr>\n",
       "    <tr>\n",
       "      <th>3</th>\n",
       "      <td>https://www.domain.com.au/7-2-crank-street-sun...</td>\n",
       "      <td>1600000.0</td>\n",
       "      <td>7/2 Crank Street,  SUNSHINE BEACH QLD 4567</td>\n",
       "      <td>2.0</td>\n",
       "      <td>1.0</td>\n",
       "      <td>1.0</td>\n",
       "      <td>NaN</td>\n",
       "      <td>Apartment / Unit / Flat</td>\n",
       "      <td>unit_format</td>\n",
       "      <td>7</td>\n",
       "      <td>2</td>\n",
       "      <td>Crank Street</td>\n",
       "      <td>NaN</td>\n",
       "      <td>Sunshine Beach</td>\n",
       "      <td>QLD</td>\n",
       "      <td>4567</td>\n",
       "      <td>-26.406774</td>\n",
       "      <td>153.110846</td>\n",
       "    </tr>\n",
       "    <tr>\n",
       "      <th>4</th>\n",
       "      <td>https://www.domain.com.au/3-8-grant-place-port...</td>\n",
       "      <td>369000.0</td>\n",
       "      <td>3/8 Grant Place,  PORT HEDLAND WA 6721</td>\n",
       "      <td>2.0</td>\n",
       "      <td>2.0</td>\n",
       "      <td>NaN</td>\n",
       "      <td>70.0</td>\n",
       "      <td>Apartment / Unit / Flat</td>\n",
       "      <td>unit_format</td>\n",
       "      <td>3</td>\n",
       "      <td>8</td>\n",
       "      <td>Grant Place</td>\n",
       "      <td>NaN</td>\n",
       "      <td>Port Hedland</td>\n",
       "      <td>WA</td>\n",
       "      <td>6721</td>\n",
       "      <td>-20.307055</td>\n",
       "      <td>118.615024</td>\n",
       "    </tr>\n",
       "  </tbody>\n",
       "</table>\n",
       "</div>"
      ],
      "text/plain": [
       "                                         Address_URL      Price  \\\n",
       "0  https://www.domain.com.au/14-22-26-paul-street...   850000.0   \n",
       "1  https://www.domain.com.au/806-28a-northumberla...   768000.0   \n",
       "2  https://www.domain.com.au/317-318-20-22-davids...  1290000.0   \n",
       "3  https://www.domain.com.au/7-2-crank-street-sun...  1600000.0   \n",
       "4  https://www.domain.com.au/3-8-grant-place-port...   369000.0   \n",
       "\n",
       "                                             Address  Beds  Baths  Parking  \\\n",
       "0            14/22-26 Paul Street,  BALMAIN NSW 2041   1.0    1.0      NaN   \n",
       "1      806/28A Northumberland Road,  AUBURN NSW 2144   2.0    2.0      1.0   \n",
       "2  317-318/20-22 Davidson Street,  PORT DOUGLAS Q...   3.0    2.0      1.0   \n",
       "3         7/2 Crank Street,  SUNSHINE BEACH QLD 4567   2.0    1.0      1.0   \n",
       "4             3/8 Grant Place,  PORT HEDLAND WA 6721   2.0    2.0      NaN   \n",
       "\n",
       "   Size                     Type       format     unit street_number  \\\n",
       "0   NaN  Apartment / Unit / Flat  unit_format       14         22-26   \n",
       "1   NaN  Apartment / Unit / Flat  unit_format      806           28A   \n",
       "2   NaN  Apartment / Unit / Flat  unit_format  317-318         20-22   \n",
       "3   NaN  Apartment / Unit / Flat  unit_format        7             2   \n",
       "4  70.0  Apartment / Unit / Flat  unit_format        3             8   \n",
       "\n",
       "           street_name  lot_number          suburb state  postcode        lat  \\\n",
       "0          Paul Street         NaN         Balmain   NSW      2041 -33.857815   \n",
       "1  Northumberland Road         NaN          Auburn   NSW      2144 -33.843828   \n",
       "2      Davidson Street         NaN    Port Douglas   QLD      4877 -16.486914   \n",
       "3         Crank Street         NaN  Sunshine Beach   QLD      4567 -26.406774   \n",
       "4          Grant Place         NaN    Port Hedland    WA      6721 -20.307055   \n",
       "\n",
       "          lon  \n",
       "0  151.194659  \n",
       "1  151.037565  \n",
       "2  145.465788  \n",
       "3  153.110846  \n",
       "4  118.615024  "
      ]
     },
     "execution_count": 5,
     "metadata": {},
     "output_type": "execute_result"
    }
   ],
   "source": [
    "df_domain.head()"
   ]
  },
  {
   "cell_type": "markdown",
   "id": "2b8ee31f",
   "metadata": {},
   "source": [
    "## Data Understanding"
   ]
  },
  {
   "cell_type": "code",
   "execution_count": 6,
   "id": "9737871c",
   "metadata": {},
   "outputs": [
    {
     "name": "stdout",
     "output_type": "stream",
     "text": [
      "Domain data shape: (16864, 18)\n",
      "NSW Sales data shape: (1827868, 20)\n"
     ]
    }
   ],
   "source": [
    "print(\"Domain data shape:\", df_domain.shape)\n",
    "print(\"NSW Sales data shape:\", df_nsw.shape)"
   ]
  },
  {
   "cell_type": "code",
   "execution_count": 7,
   "id": "c0d22643",
   "metadata": {},
   "outputs": [
    {
     "name": "stdout",
     "output_type": "stream",
     "text": [
      "<class 'pandas.core.frame.DataFrame'>\n",
      "RangeIndex: 16864 entries, 0 to 16863\n",
      "Data columns (total 18 columns):\n",
      " #   Column         Non-Null Count  Dtype  \n",
      "---  ------         --------------  -----  \n",
      " 0   Address_URL    16864 non-null  object \n",
      " 1   Price          16864 non-null  float64\n",
      " 2   Address        16864 non-null  object \n",
      " 3   Beds           14310 non-null  float64\n",
      " 4   Baths          14310 non-null  float64\n",
      " 5   Parking        12645 non-null  float64\n",
      " 6   Size           8392 non-null   float64\n",
      " 7   Type           16864 non-null  object \n",
      " 8   format         16864 non-null  object \n",
      " 9   unit           7901 non-null   object \n",
      " 10  street_number  14891 non-null  object \n",
      " 11  street_name    16351 non-null  object \n",
      " 12  lot_number     1460 non-null   float64\n",
      " 13  suburb         16864 non-null  object \n",
      " 14  state          16864 non-null  object \n",
      " 15  postcode       16864 non-null  int64  \n",
      " 16  lat            16858 non-null  float64\n",
      " 17  lon            16858 non-null  float64\n",
      "dtypes: float64(8), int64(1), object(9)\n",
      "memory usage: 2.3+ MB\n"
     ]
    }
   ],
   "source": [
    "df_domain.info()"
   ]
  },
  {
   "cell_type": "code",
   "execution_count": 8,
   "id": "27f09e14",
   "metadata": {},
   "outputs": [
    {
     "name": "stdout",
     "output_type": "stream",
     "text": [
      "<class 'pandas.core.frame.DataFrame'>\n",
      "RangeIndex: 1827868 entries, 0 to 1827867\n",
      "Data columns (total 20 columns):\n",
      " #   Column                      Dtype  \n",
      "---  ------                      -----  \n",
      " 0   Property ID                 float64\n",
      " 1   Sale counter                int64  \n",
      " 2   Download date / time        object \n",
      " 3   Property name               object \n",
      " 4   Property unit number        object \n",
      " 5   Property house number       object \n",
      " 6   Property street name        object \n",
      " 7   Property locality           object \n",
      " 8   Property post code          float64\n",
      " 9   Area                        float64\n",
      " 10  Area type                   object \n",
      " 11  Contract date               object \n",
      " 12  Settlement date             object \n",
      " 13  Purchase price              int64  \n",
      " 14  Zoning                      object \n",
      " 15  Nature of property          object \n",
      " 16  Primary purpose             object \n",
      " 17  Strata lot number           float64\n",
      " 18  Dealing number              object \n",
      " 19  Property legal description  object \n",
      "dtypes: float64(4), int64(2), object(14)\n",
      "memory usage: 278.9+ MB\n"
     ]
    }
   ],
   "source": [
    "df_nsw.info()"
   ]
  },
  {
   "cell_type": "code",
   "execution_count": 9,
   "id": "a21ca61a",
   "metadata": {},
   "outputs": [
    {
     "name": "stdout",
     "output_type": "stream",
     "text": [
      "Domain missing values:\n",
      " Address_URL          0\n",
      "Price                0\n",
      "Address              0\n",
      "Beds              2554\n",
      "Baths             2554\n",
      "Parking           4219\n",
      "Size              8472\n",
      "Type                 0\n",
      "format               0\n",
      "unit              8963\n",
      "street_number     1973\n",
      "street_name        513\n",
      "lot_number       15404\n",
      "suburb               0\n",
      "state                0\n",
      "postcode             0\n",
      "lat                  6\n",
      "lon                  6\n",
      "dtype: int64\n"
     ]
    }
   ],
   "source": [
    "print(\"Domain missing values:\\n\", df_domain.isna().sum())"
   ]
  },
  {
   "cell_type": "code",
   "execution_count": 10,
   "id": "f7eb45d7",
   "metadata": {},
   "outputs": [
    {
     "name": "stdout",
     "output_type": "stream",
     "text": [
      "NSW missing values:\n",
      " Property ID                       220\n",
      "Sale counter                        0\n",
      "Download date / time                0\n",
      "Property name                 1747346\n",
      "Property unit number          1199361\n",
      "Property house number           39390\n",
      "Property street name              493\n",
      "Property locality                   5\n",
      "Property post code                131\n",
      "Area                           429118\n",
      "Area type                      429090\n",
      "Contract date                     175\n",
      "Settlement date                     1\n",
      "Purchase price                      0\n",
      "Zoning                         762103\n",
      "Nature of property                  0\n",
      "Primary purpose                   286\n",
      "Strata lot number             1141943\n",
      "Dealing number                      0\n",
      "Property legal description         19\n",
      "dtype: int64\n"
     ]
    }
   ],
   "source": [
    "print(\"NSW missing values:\\n\", df_nsw.isna().sum())"
   ]
  },
  {
   "cell_type": "markdown",
   "id": "19d71e0b",
   "metadata": {},
   "source": [
    "## Data Cleaning"
   ]
  },
  {
   "cell_type": "markdown",
   "id": "e17a593c",
   "metadata": {},
   "source": [
    "### Fill na and drop unused columns"
   ]
  },
  {
   "cell_type": "code",
   "execution_count": 11,
   "id": "e59bf29a",
   "metadata": {},
   "outputs": [],
   "source": [
    "df_domain[['Beds', 'Baths', 'Parking']] = df_domain[['Beds', 'Baths', 'Parking']].fillna(0)\n",
    "df_nsw[['Zoning', 'Area type']] = df_nsw[['Zoning', 'Area type']].fillna('unknown')\n",
    "\n",
    "df_nsw['Area'] = df_nsw.groupby('Area type')['Area'].transform(\n",
    "    lambda x: x.fillna(x.mean())\n",
    ")\n",
    "\n",
    "df_nsw['Area'] = df_nsw['Area'].fillna(df_nsw['Area'].mean())"
   ]
  },
  {
   "cell_type": "code",
   "execution_count": 12,
   "id": "4b4230d5",
   "metadata": {},
   "outputs": [],
   "source": [
    "df_nsw = df_nsw.drop(columns=['Property ID', 'Download date / time', \"Property legal description\", \"Settlement date\", \"Property name\", \"Strata lot number\"])"
   ]
  },
  {
   "cell_type": "code",
   "execution_count": 13,
   "id": "b73b2b0d",
   "metadata": {},
   "outputs": [],
   "source": [
    "median_size = df_domain.groupby(['Type', 'Beds'])['Size'].median().reset_index()\n",
    "median_size = median_size.rename(columns={'Size': 'median_size'})\n",
    "\n",
    "df_domain = df_domain.merge(median_size, on=['Type', 'Beds'], how='left')\n",
    "\n",
    "df_domain['Size'] = np.where(df_domain['Size'].isna(), df_domain['median_size'], df_domain['Size'])\n",
    "\n",
    "df_domain['Size'] = df_domain['Size'].fillna(df_domain['Size'].median())\n",
    "\n",
    "df_domain = df_domain.drop(columns=['median_size'])"
   ]
  },
  {
   "cell_type": "markdown",
   "id": "bb330b90",
   "metadata": {},
   "source": [
    "### Drop duplicates"
   ]
  },
  {
   "cell_type": "code",
   "execution_count": 14,
   "id": "e4b8eacb",
   "metadata": {},
   "outputs": [],
   "source": [
    "df_domain = df_domain.drop_duplicates()\n",
    "df_nsw = df_nsw.drop_duplicates()"
   ]
  },
  {
   "cell_type": "markdown",
   "id": "49eec2ca",
   "metadata": {},
   "source": [
    "### Remove records with missing price or postcode"
   ]
  },
  {
   "cell_type": "code",
   "execution_count": 15,
   "id": "06b4957b",
   "metadata": {},
   "outputs": [],
   "source": [
    "df_domain = df_domain.dropna(subset=[\"Price\", \"postcode\", \"lat\", \"lon\"])\n",
    "df_nsw = df_nsw.dropna(subset=[\"Purchase price\", \"Property post code\", \"Contract date\"])"
   ]
  },
  {
   "cell_type": "markdown",
   "id": "3ee0badf",
   "metadata": {},
   "source": [
    "### Convert prices to numeric"
   ]
  },
  {
   "cell_type": "code",
   "execution_count": 16,
   "id": "4eb68d89",
   "metadata": {},
   "outputs": [],
   "source": [
    "df_domain[\"Price\"] = pd.to_numeric(df_domain[\"Price\"], errors=\"coerce\")\n",
    "df_nsw[\"Purchase price\"] = pd.to_numeric(df_nsw[\"Purchase price\"], errors=\"coerce\")"
   ]
  },
  {
   "cell_type": "markdown",
   "id": "4f007545",
   "metadata": {},
   "source": [
    "### Clean text (strip spaces, lowercase)"
   ]
  },
  {
   "cell_type": "code",
   "execution_count": 17,
   "id": "d3d66ff0",
   "metadata": {},
   "outputs": [],
   "source": [
    "for col in [\"Address\", \"street_name\", \"suburb\", \"state\"]:\n",
    "    if col in df_domain.columns:\n",
    "        df_domain[col] = df_domain[col].astype(str).str.strip().str.lower()\n",
    "\n",
    "for col in [\"Property street name\", \"Property locality\"]:\n",
    "    if col in df_nsw.columns:\n",
    "        df_nsw[col] = df_nsw[col].astype(str).str.strip().str.lower()"
   ]
  },
  {
   "cell_type": "markdown",
   "id": "8d92e9e6",
   "metadata": {},
   "source": [
    "### Street normalization"
   ]
  },
  {
   "cell_type": "code",
   "execution_count": 18,
   "id": "e3ff356c",
   "metadata": {},
   "outputs": [],
   "source": [
    "import re\n",
    "\n",
    "def normalize_street_name(name: str):\n",
    "    if not isinstance(name, str):\n",
    "        return \"\"\n",
    "    \n",
    "    name = name.lower().strip()\n",
    "    \n",
    "    replacements = {\n",
    "        r'\\broad\\b': 'rd',\n",
    "        r'\\broad\\.\\b': 'rd',\n",
    "        r'\\bstreet\\b': 'st',\n",
    "        r'\\bstreet\\.\\b': 'st',\n",
    "        r'\\bavenue\\b': 'ave',\n",
    "        r'\\bavenue\\.\\b': 'ave',\n",
    "        r'\\bplace\\b': 'pl',\n",
    "        r'\\bdrive\\b': 'dr',\n",
    "        r'\\bparade\\b': 'pde',\n",
    "        r'\\bhighway\\b': 'hwy',\n",
    "        r'\\bcrescent\\b': 'cres',\n",
    "        r'\\bclose\\b': 'cl',\n",
    "        r'\\blane\\b': 'ln',\n",
    "        r'\\bterrace\\b': 'tce',\n",
    "        r'\\bboulevard\\b': 'blvd'\n",
    "    }\n",
    "\n",
    "    for pattern, repl in replacements.items():\n",
    "        name = re.sub(pattern, repl, name)\n",
    "    \n",
    "    name = re.sub(r'[^\\w\\s]', '', name)\n",
    "    name = re.sub(r'\\s+', ' ', name).strip()\n",
    "\n",
    "    return name\n",
    "\n",
    "df_domain[\"street_name\"] = df_domain[\"street_name\"].apply(normalize_street_name)\n",
    "df_nsw[\"Property street name\"] = df_nsw[\"Property street name\"].apply(normalize_street_name)"
   ]
  },
  {
   "cell_type": "markdown",
   "id": "c9bc68c7",
   "metadata": {},
   "source": [
    "### Feature engineering"
   ]
  },
  {
   "cell_type": "code",
   "execution_count": 19,
   "id": "fbcd16c0",
   "metadata": {},
   "outputs": [],
   "source": [
    "SYDNEY = (-33.8688, 151.2093)\n",
    "\n",
    "df_domain[\"dist_to_sydney\"] = haversine(df_domain[\"lat\"], df_domain[\"lon\"], SYDNEY[0], SYDNEY[1])"
   ]
  },
  {
   "cell_type": "code",
   "execution_count": 20,
   "id": "1a32616d",
   "metadata": {},
   "outputs": [],
   "source": [
    "df_domain['price_per_m2'] = df_domain['Price'] / df_domain['Size']\n",
    "df_nsw['price_per_m2'] = df_nsw['Purchase price'] / df_nsw['Area']"
   ]
  },
  {
   "cell_type": "markdown",
   "id": "87e710b5",
   "metadata": {},
   "source": [
    "### Outlier detection"
   ]
  },
  {
   "cell_type": "code",
   "execution_count": 21,
   "id": "94cd7f69",
   "metadata": {},
   "outputs": [],
   "source": [
    "from sklearn.ensemble import IsolationForest\n",
    "from sklearn.preprocessing import StandardScaler"
   ]
  },
  {
   "cell_type": "code",
   "execution_count": 22,
   "id": "6e025bee",
   "metadata": {},
   "outputs": [],
   "source": [
    "def detect_outliers(df, features, sample_frac=1.0, random_state=42):\n",
    "    df = df.copy()\n",
    "\n",
    "    X = df[features].replace([np.inf, -np.inf], np.nan)\n",
    "    X = X.fillna(X.median())  \n",
    "    X = np.clip(X, a_min=-1e9, a_max=1e9)  \n",
    "\n",
    "    scaler = StandardScaler()\n",
    "    X_scaled = scaler.fit_transform(X)\n",
    "\n",
    "    if sample_frac < 1.0:\n",
    "        df_sample = df.sample(frac=sample_frac, random_state=random_state)\n",
    "        X_sample = scaler.transform(df_sample[features].replace([np.inf, -np.inf], np.nan).fillna(X.median()))\n",
    "    else:\n",
    "        df_sample = df\n",
    "        X_sample = X_scaled\n",
    "\n",
    "    iso = IsolationForest(\n",
    "        n_estimators=200,\n",
    "        contamination=0.02,\n",
    "        random_state=random_state,\n",
    "        max_samples='auto',\n",
    "        n_jobs=-1\n",
    "    )\n",
    "    iso.fit(X_sample)\n",
    "\n",
    "    preds = iso.predict(X_scaled)\n",
    "    df[\"is_outlier\"] = preds == -1\n",
    "\n",
    "    return df"
   ]
  },
  {
   "cell_type": "code",
   "execution_count": 23,
   "id": "5edd1e89",
   "metadata": {},
   "outputs": [
    {
     "name": "stdout",
     "output_type": "stream",
     "text": [
      "Domain outliers detected: 336\n"
     ]
    }
   ],
   "source": [
    "domain_features = ['Price', 'Beds', 'Baths', 'Parking', 'Size', 'price_per_m2', 'lat', 'lon']\n",
    "domain_clean = detect_outliers(df_domain, domain_features)\n",
    "print(\"Domain outliers detected:\", domain_clean[\"is_outlier\"].sum())"
   ]
  },
  {
   "cell_type": "code",
   "execution_count": 24,
   "id": "60d3f531",
   "metadata": {},
   "outputs": [
    {
     "name": "stdout",
     "output_type": "stream",
     "text": [
      "NSW outliers detected: 31673\n"
     ]
    }
   ],
   "source": [
    "nsw_features = ['Purchase price', 'Area', 'price_per_m2']\n",
    "\n",
    "nsw_clean = detect_outliers(df_nsw, nsw_features, sample_frac=0.4) \n",
    "print(\"NSW outliers detected:\", nsw_clean[\"is_outlier\"].sum())\n"
   ]
  },
  {
   "cell_type": "code",
   "execution_count": 25,
   "id": "7db754d2",
   "metadata": {},
   "outputs": [
    {
     "name": "stdout",
     "output_type": "stream",
     "text": [
      "Domain cleaned shape: (16437, 20)\n",
      "NSW cleaned shape: (1553001, 15)\n"
     ]
    }
   ],
   "source": [
    "df_domain = domain_clean[~domain_clean[\"is_outlier\"]].drop(columns=\"is_outlier\")\n",
    "df_nsw = nsw_clean[~nsw_clean[\"is_outlier\"]].drop(columns=\"is_outlier\")\n",
    "\n",
    "print(f\"Domain cleaned shape: {df_domain.shape}\")\n",
    "print(f\"NSW cleaned shape: {df_nsw.shape}\")"
   ]
  },
  {
   "cell_type": "markdown",
   "id": "ae90f1d3",
   "metadata": {},
   "source": [
    "## After preprocessing"
   ]
  },
  {
   "cell_type": "code",
   "execution_count": 26,
   "id": "7994a1f0",
   "metadata": {},
   "outputs": [
    {
     "name": "stdout",
     "output_type": "stream",
     "text": [
      "Domain data shape: (16437, 20)\n",
      "NSW Sales data shape: (1553001, 15)\n"
     ]
    }
   ],
   "source": [
    "print(\"Domain data shape:\", df_domain.shape)\n",
    "print(\"NSW Sales data shape:\", df_nsw.shape)"
   ]
  },
  {
   "cell_type": "code",
   "execution_count": 27,
   "id": "7f16a9be",
   "metadata": {},
   "outputs": [
    {
     "name": "stdout",
     "output_type": "stream",
     "text": [
      "<class 'pandas.core.frame.DataFrame'>\n",
      "Index: 1553001 entries, 0 to 1825251\n",
      "Data columns (total 15 columns):\n",
      " #   Column                 Non-Null Count    Dtype  \n",
      "---  ------                 --------------    -----  \n",
      " 0   Sale counter           1553001 non-null  int64  \n",
      " 1   Property unit number   512046 non-null   object \n",
      " 2   Property house number  1521890 non-null  object \n",
      " 3   Property street name   1553001 non-null  object \n",
      " 4   Property locality      1553001 non-null  object \n",
      " 5   Property post code     1553001 non-null  float64\n",
      " 6   Area                   1553001 non-null  float64\n",
      " 7   Area type              1553001 non-null  object \n",
      " 8   Contract date          1553001 non-null  object \n",
      " 9   Purchase price         1553001 non-null  int64  \n",
      " 10  Zoning                 1553001 non-null  object \n",
      " 11  Nature of property     1553001 non-null  object \n",
      " 12  Primary purpose        1552774 non-null  object \n",
      " 13  Dealing number         1553001 non-null  object \n",
      " 14  price_per_m2           1553001 non-null  float64\n",
      "dtypes: float64(3), int64(2), object(10)\n",
      "memory usage: 189.6+ MB\n"
     ]
    }
   ],
   "source": [
    "df_nsw.info()"
   ]
  },
  {
   "cell_type": "code",
   "execution_count": 28,
   "id": "eaa43ff7",
   "metadata": {},
   "outputs": [
    {
     "name": "stdout",
     "output_type": "stream",
     "text": [
      "Domain missing values:\n",
      " Address_URL           0\n",
      "Price                 0\n",
      "Address               0\n",
      "Beds                  0\n",
      "Baths                 0\n",
      "Parking               0\n",
      "Size                  0\n",
      "Type                  0\n",
      "format                0\n",
      "unit               8696\n",
      "street_number      1959\n",
      "street_name           0\n",
      "lot_number        14986\n",
      "suburb                0\n",
      "state                 0\n",
      "postcode              0\n",
      "lat                   0\n",
      "lon                   0\n",
      "dist_to_sydney        0\n",
      "price_per_m2          0\n",
      "dtype: int64\n"
     ]
    }
   ],
   "source": [
    "print(\"Domain missing values:\\n\", df_domain.isna().sum())"
   ]
  },
  {
   "cell_type": "code",
   "execution_count": 29,
   "id": "f0de5378",
   "metadata": {},
   "outputs": [
    {
     "name": "stdout",
     "output_type": "stream",
     "text": [
      "NSW missing values:\n",
      " Sale counter                   0\n",
      "Property unit number     1040955\n",
      "Property house number      31111\n",
      "Property street name           0\n",
      "Property locality              0\n",
      "Property post code             0\n",
      "Area                           0\n",
      "Area type                      0\n",
      "Contract date                  0\n",
      "Purchase price                 0\n",
      "Zoning                         0\n",
      "Nature of property             0\n",
      "Primary purpose              227\n",
      "Dealing number                 0\n",
      "price_per_m2                   0\n",
      "dtype: int64\n"
     ]
    }
   ],
   "source": [
    "print(\"NSW missing values:\\n\", df_nsw.isna().sum())"
   ]
  },
  {
   "cell_type": "code",
   "execution_count": 33,
   "id": "07c67688",
   "metadata": {},
   "outputs": [],
   "source": [
    "df_domain_nsw = df_domain[df_domain['state'] == 'nsw']"
   ]
  },
  {
   "cell_type": "code",
   "execution_count": 34,
   "id": "2cbad528",
   "metadata": {},
   "outputs": [
    {
     "name": "stdout",
     "output_type": "stream",
     "text": [
      "Domain (NSW) missing values:\n",
      " Address_URL          0\n",
      "Price                0\n",
      "Address              0\n",
      "Beds                 0\n",
      "Baths                0\n",
      "Parking              0\n",
      "Size                 0\n",
      "Type                 0\n",
      "format               0\n",
      "unit              3980\n",
      "street_number      621\n",
      "street_name          0\n",
      "lot_number        7554\n",
      "suburb               0\n",
      "state                0\n",
      "postcode             0\n",
      "lat                  0\n",
      "lon                  0\n",
      "dist_to_sydney       0\n",
      "price_per_m2         0\n",
      "dtype: int64\n"
     ]
    }
   ],
   "source": [
    "print(\"Domain (NSW) missing values:\\n\", df_domain_nsw.isna().sum())"
   ]
  },
  {
   "cell_type": "code",
   "execution_count": 35,
   "id": "8527efda",
   "metadata": {},
   "outputs": [],
   "source": [
    "df_domain.to_csv('dataset/cleaned/domain.csv', index=False)\n",
    "df_nsw.to_csv('dataset/cleaned/nsw.csv', index=False)\n",
    "df_domain_nsw.to_csv('dataset/cleaned/domain_nsw.csv', index=False)"
   ]
  }
 ],
 "metadata": {
  "kernelspec": {
   "display_name": "base",
   "language": "python",
   "name": "python3"
  },
  "language_info": {
   "codemirror_mode": {
    "name": "ipython",
    "version": 3
   },
   "file_extension": ".py",
   "mimetype": "text/x-python",
   "name": "python",
   "nbconvert_exporter": "python",
   "pygments_lexer": "ipython3",
   "version": "3.11.7"
  }
 },
 "nbformat": 4,
 "nbformat_minor": 5
}
